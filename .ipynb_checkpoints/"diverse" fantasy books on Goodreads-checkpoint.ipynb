{
 "cells": [
  {
   "cell_type": "markdown",
   "metadata": {},
   "source": [
    "The goal of this code is to gather books tagged with \"fantasy\" on Goodreads and explore how users have tagged those books (or \"shelved\" them, on the Goodreads site).\n",
    "\n",
    "The Goodreads API allows users to with a developer key to retrieve information about a book given a Goodreads book ID. You can request a developer key and read documentation for the Goodreads API here: https://www.goodreads.com/api\n",
    "\n",
    "The Python wrapper and documentation for the Goodreads is available at https://github.com/sefakilic/goodreads"
   ]
  },
  {
   "cell_type": "code",
   "execution_count": 1,
   "metadata": {
    "collapsed": true
   },
   "outputs": [],
   "source": [
    "# Import libraries\n",
    "\n",
    "from goodreads import client\n",
    "from lxml import html\n",
    "import requests\n",
    "from collections import Counter\n",
    "\n",
    "gc = client.GoodreadsClient(\"Ha1oKI3R0fqeApxCJIcQ\", \"wbHQF5APtAgwKrY0kQ9gFSxyVEqt0kEqWwi3HUf0t7A\")\n",
    "\n",
    "# Thank you internet for helping with scraping\n",
    "# http://docs.python-guide.org/en/latest/scenarios/scrape/"
   ]
  },
  {
   "cell_type": "markdown",
   "metadata": {},
   "source": [
    "The loop below pulls the ID numbers using an XPath query from all the results that come up when I search \"fantasy\" in the genre tag on Goodreads, which returns approximately 50k results, as below:\n",
    "\n",
    "<img src=\"goodreads-search-big.png\">"
   ]
  },
  {
   "cell_type": "code",
   "execution_count": 2,
   "metadata": {},
   "outputs": [],
   "source": [
    "# set up base search page, page number to increment, and list container for book ids\n",
    "search_page = 'http://www.goodreads.com/search?page=1&q=fantasy&search%5Bfield%5D=genre&search_type=books&tab=books&utf8=%E2%9C%93'\n",
    "page_num = 1\n",
    "book_IDs = []\n",
    "for page in range(100): # repeat 100 times for each page of search results \n",
    "    # get page using requests:\n",
    "    fantasy_books = requests.get(search_page)\n",
    "    # read into a tree object:\n",
    "    tree = html.fromstring(fantasy_books.content)\n",
    "    # use XPath query to get each book ID number and add it to the list.\n",
    "    book_IDs.extend(tree.xpath(\"//form[@class='hiddenShelfForm']/input[@name='book_id']/@value\"))\n",
    "    # increment the page number for the next page of search results:\n",
    "    page_num += 1\n",
    "    search_page = 'http://www.goodreads.com/search?page='+(str(page_num))+'&q=fantasy&search%5Bfield%5D=genre&search_type=books&tab=books&utf8=%E2%9C%93'\n",
    "    \n",
    "# print(book_IDs)"
   ]
  },
  {
   "cell_type": "markdown",
   "metadata": {},
   "source": [
    "I revised the loop above from my earlier code (in the notebook \"goodreads fantasy books\") to produce a single list using .extend instead of creating a list of lists, since each page will return a list of ID numbers. \n",
    "\n",
    "Next, I want to loop through the list and collect the title and shelf data for each ID number using the Goodreads API, and put that information into a dictionary. Then, I can use that data to identify titles tagged (\"shelved\") as \"diverse.\" (This takes about half an hour to run.)"
   ]
  },
  {
   "cell_type": "code",
   "execution_count": 3,
   "metadata": {},
   "outputs": [],
   "source": [
    "books_and_shelves = {} # key = book title, value = list of popular shelves\n",
    "\n",
    "for booknum in book_IDs:\n",
    "    # get the book using the ID number\n",
    "    book = gc.book(booknum)\n",
    "    # Use the .title and .popular_shelves functions to get the data and put it in the dictionary\n",
    "    books_and_shelves[book.title] = book.popular_shelves\n",
    "    \n",
    "# print(books_and_shelves)"
   ]
  },
  {
   "cell_type": "markdown",
   "metadata": {
    "collapsed": true
   },
   "source": [
    "Now I have my book titles and their popular shelves in a dictionary. I discovered in my intitial coding that the list of shelves returned by the API isn't a list of strings, so before I move on I want to make all my values in the dictionary (the shelf lists) into lists of strings so I can work with them more easily."
   ]
  },
  {
   "cell_type": "code",
   "execution_count": 4,
   "metadata": {
    "collapsed": true
   },
   "outputs": [],
   "source": [
    "# change the shelflists into list of strings\n",
    "\n",
    "for title, shelves in books_and_shelves.items():\n",
    "    # create a list from the goodreads shelf item for each dictionary entry:\n",
    "    list_of_shelves = list(shelves)\n",
    "    # Make an empty list container for the shelf names as strings:\n",
    "    shelves_str = []\n",
    "    # iterate over the list of shelf names:\n",
    "    for shelf in list_of_shelves:\n",
    "        # change the shelf names into strings and add them to the list\n",
    "        shelves_str.append(str(shelf))\n",
    "    # replace the value with the list of strings\n",
    "    books_and_shelves[title] = shelves_str\n",
    "    \n",
    "# print(books_and_shelves)"
   ]
  },
  {
   "cell_type": "markdown",
   "metadata": {},
   "source": [
    "Now that all the items in the shelf lists are strings, I can put them all into one list and create a list of unique shelves using the Counter."
   ]
  },
  {
   "cell_type": "code",
   "execution_count": 13,
   "metadata": {},
   "outputs": [],
   "source": [
    "# get just the values from the dictionary and create a counter object\n",
    "\n",
    "allshelves = list(books_and_shelves.values())\n",
    "\n",
    "# loop over the list of lists to get a single list of shelves\n",
    "\n",
    "oneshelflist = []\n",
    "for shelf_list in allshelves:\n",
    "    oneshelflist.extend(shelf_list)\n",
    "    \n",
    "# Use the Counter to get a list of unique shelves\n",
    "unique_shelves = list(Counter(oneshelflist).keys())\n",
    "\n",
    "# print(unique_shelves)\n"
   ]
  },
  {
   "cell_type": "markdown",
   "metadata": {},
   "source": [
    "Now that I have a list of unique shelves, I want to find the ones that are related to diversity. To simplify matters, I'm going to look for shelves with \"diverse\" and \"diversity\" in them using the string \"divers\". This gets me a list of six shelves to work with."
   ]
  },
  {
   "cell_type": "code",
   "execution_count": 14,
   "metadata": {
    "collapsed": true
   },
   "outputs": [],
   "source": [
    "diverse_shelves = []\n",
    "for shelf in unique_shelves:\n",
    "    if \"divers\" in shelf:\n",
    "        diverse_shelves.append(shelf)\n",
    "        \n",
    "# print(diverse_shelves)"
   ]
  },
  {
   "cell_type": "markdown",
   "metadata": {},
   "source": [
    "Now I'll use the list of shelves I got above to loop through my dictionary and find book titles that are tagged with one or more of these shelves."
   ]
  },
  {
   "cell_type": "code",
   "execution_count": 15,
   "metadata": {},
   "outputs": [],
   "source": [
    "diverse_titles = []\n",
    "for title, shelves in books_and_shelves.items():\n",
    "    for shelf in shelves:\n",
    "        for tag in diverse_shelves:\n",
    "            if tag in shelf:\n",
    "                diverse_titles.append(title)\n",
    "                \n",
    "# print(diverse_titles)"
   ]
  },
  {
   "cell_type": "raw",
   "metadata": {},
   "source": [
    "Since there were several duplicates when I looked at the list, I'm going to use the Counter to make a list of unique titles. Then, I'll compile a list of all the shelves that intersect with the \"diverse\" shelves above."
   ]
  },
  {
   "cell_type": "code",
   "execution_count": 16,
   "metadata": {},
   "outputs": [],
   "source": [
    "# First, get the list of unique titles\n",
    "unique_titles = list(Counter(diverse_titles).keys())\n",
    "\n",
    "# Loop through and put the shelf lists of the titles above into their own list\n",
    "diverse_shelves = []\n",
    "for title, shelves in books_and_shelves.items():\n",
    "    if title in unique_titles:\n",
    "        diverse_shelves.extend(shelves)\n"
   ]
  },
  {
   "cell_type": "markdown",
   "metadata": {
    "collapsed": true
   },
   "source": [
    "I've stopped here due to time, but from here I could visualize this data to see the most frequent intersections of shelves with \"diverse\" and \"diversity\" labels, look at specific intersections (what's the intersection of books labeled \"young adult\" and \"diverse\"?) or perhaps go back and add other terms to my list of \"diverse\" shelves."
   ]
  }
 ],
 "metadata": {
  "kernelspec": {
   "display_name": "Python 3",
   "language": "python",
   "name": "python3"
  },
  "language_info": {
   "codemirror_mode": {
    "name": "ipython",
    "version": 3
   },
   "file_extension": ".py",
   "mimetype": "text/x-python",
   "name": "python",
   "nbconvert_exporter": "python",
   "pygments_lexer": "ipython3",
   "version": "3.6.1"
  }
 },
 "nbformat": 4,
 "nbformat_minor": 2
}
