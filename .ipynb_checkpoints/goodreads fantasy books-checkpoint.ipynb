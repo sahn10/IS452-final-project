{
 "cells": [
  {
   "cell_type": "markdown",
   "metadata": {},
   "source": [
    "Task: Get a list of fantasy book IDs to loop through and find shelf data for, then find shelves to do with diverse books, etc.\n",
    "\n",
    "Need to: \n",
    "\n",
    "-get list of books tagged fantasy (genre tag...)\n",
    "\n",
    "-scrape book IDs from Fantasy pages\n",
    "\n",
    "-come up with shelf keywords to isolate"
   ]
  },
  {
   "cell_type": "code",
   "execution_count": 27,
   "metadata": {
    "collapsed": true
   },
   "outputs": [],
   "source": [
    "from goodreads import client\n",
    "from lxml import html\n",
    "import requests\n",
    "from collections import Counter\n",
    "\n",
    "gc = client.GoodreadsClient(\"Ha1oKI3R0fqeApxCJIcQ\", \"wbHQF5APtAgwKrY0kQ9gFSxyVEqt0kEqWwi3HUf0t7A\")\n",
    "\n",
    "# Thank you internet for helping with scraping\n",
    "# http://docs.python-guide.org/en/latest/scenarios/scrape/"
   ]
  },
  {
   "cell_type": "code",
   "execution_count": 16,
   "metadata": {
    "collapsed": true
   },
   "outputs": [],
   "source": [
    "# set a up a loop to get the ID numbers from all the items that come up when I search \"fantasy\" \n",
    "# in the genre tag on goodreads. I'm using the search results instead of the popular fantasy books page\n",
    "# so I can have more data\n",
    "# This section is also when I learn the value of testing on a smaller data set first. This takes a bit to run.\n",
    "\n",
    "search_page = 'http://www.goodreads.com/search?page=1&q=fantasy&search%5Bfield%5D=genre&search_type=books&tab=books&utf8=%E2%9C%93'\n",
    "page_num = 1\n",
    "book_IDs = []\n",
    "for page in range(100):\n",
    "    fantasy_books = requests.get(search_page)\n",
    "    tree = html.fromstring(fantasy_books.content)\n",
    "    book_IDs.append(tree.xpath(\"//form[@class='hiddenShelfForm']/input[@name='book_id']/@value\"))\n",
    "    page_num += 1\n",
    "    search_page = 'http://www.goodreads.com/search?page='+(str(page_num))+'&q=fantasy&search%5Bfield%5D=genre&search_type=books&tab=books&utf8=%E2%9C%93'"
   ]
  },
  {
   "cell_type": "markdown",
   "metadata": {},
   "source": [
    "loop through the list of lists (book_IDs) and collect the shelf data for each ID number using goodreads api.\n",
    "\n",
    "things I can do with the shelf data:\n",
    "\n",
    "identify titles on \"diverse books\" type shelves\n",
    "\n",
    "count the number of fantasy books with \"divesre books\" type shelving\n",
    "\n",
    "Maybe best to create a dictionary for this type of task."
   ]
  },
  {
   "cell_type": "code",
   "execution_count": 18,
   "metadata": {
    "collapsed": true
   },
   "outputs": [],
   "source": [
    "books_and_shelves = {} # key = book title, value = list of popular shelves\n",
    "\n",
    "for book_list in book_IDs:\n",
    "    for booknum in book_list:\n",
    "        book = gc.book(booknum)\n",
    "        books_and_shelves[book.title] = book.popular_shelves"
   ]
  },
  {
   "cell_type": "markdown",
   "metadata": {
    "collapsed": true
   },
   "source": [
    "So now I have my book titles and their popular shelves in a dictionary. I want to find the intersection of fantasy titles and diverse books, but I need to figure out what those shelves are. To start that, I want to just get a list of unique shelves."
   ]
  },
  {
   "cell_type": "code",
   "execution_count": 49,
   "metadata": {
    "collapsed": true
   },
   "outputs": [],
   "source": [
    "# get just the values from the dictionary and create a counter object\n",
    "\n",
    "allshelves = list(books_and_shelves.values())\n",
    "\n",
    "# loop over the list of lists to get a single list of shelves\n",
    "\n",
    "oneshelflist = []\n",
    "for shelf_list in allshelves:\n",
    "    oneshelflist.extend(shelf_list)\n",
    "    \n",
    "# The counter wouldn't work on the above list. Stack Overflow discussion suggests it may be \n",
    "# because the items aren't strings (?) -- I don't really understand why, but the below works.\n",
    "\n",
    "shelf_strings = []\n",
    "for shelf in oneshelflist:\n",
    "    shelf_strings.append(str(shelf))\n",
    "    \n",
    "unique_shelves = list(Counter(shelf_strings).keys())\n"
   ]
  },
  {
   "cell_type": "markdown",
   "metadata": {},
   "source": [
    "Now that I have a list of unique shelves, I want to find the ones that are related to diversity. To simplify matters, I'm going to look for shelves with \"diverse\" and \"diversity\" in them. (There's a regex angle here, but at the moment this is simpler.)"
   ]
  },
  {
   "cell_type": "code",
   "execution_count": 54,
   "metadata": {
    "collapsed": true
   },
   "outputs": [],
   "source": [
    "diverse_books = []\n",
    "for shelf in unique_shelves:\n",
    "    if \"divers\" in shelf:\n",
    "        diverse_books.append(shelf)\n",
    "        \n",
    "# This only gets me a list of 6 shelves, but for the time being, let's go with that."
   ]
  },
  {
   "cell_type": "code",
   "execution_count": 60,
   "metadata": {},
   "outputs": [
    {
     "ename": "TypeError",
     "evalue": "argument of type 'GoodreadsShelf' is not iterable",
     "output_type": "error",
     "traceback": [
      "\u001b[0;31m---------------------------------------------------------------------------\u001b[0m",
      "\u001b[0;31mTypeError\u001b[0m                                 Traceback (most recent call last)",
      "\u001b[0;32m<ipython-input-60-001c57827b92>\u001b[0m in \u001b[0;36m<module>\u001b[0;34m()\u001b[0m\n\u001b[1;32m      6\u001b[0m     \u001b[0;32mfor\u001b[0m \u001b[0mshelf\u001b[0m \u001b[0;32min\u001b[0m \u001b[0mshelflist\u001b[0m\u001b[0;34m:\u001b[0m\u001b[0;34m\u001b[0m\u001b[0m\n\u001b[1;32m      7\u001b[0m         \u001b[0;32mfor\u001b[0m \u001b[0mtag\u001b[0m \u001b[0;32min\u001b[0m \u001b[0mdiverse_books\u001b[0m\u001b[0;34m:\u001b[0m\u001b[0;34m\u001b[0m\u001b[0m\n\u001b[0;32m----> 8\u001b[0;31m             \u001b[0;32mif\u001b[0m \u001b[0mtag\u001b[0m \u001b[0;32min\u001b[0m \u001b[0mshelf\u001b[0m\u001b[0;34m:\u001b[0m\u001b[0;34m\u001b[0m\u001b[0m\n\u001b[0m\u001b[1;32m      9\u001b[0m                 \u001b[0mprint\u001b[0m\u001b[0;34m(\u001b[0m\u001b[0mtitle\u001b[0m\u001b[0;34m)\u001b[0m\u001b[0;34m\u001b[0m\u001b[0m\n\u001b[1;32m     10\u001b[0m \u001b[0;34m\u001b[0m\u001b[0m\n",
      "\u001b[0;31mTypeError\u001b[0m: argument of type 'GoodreadsShelf' is not iterable"
     ]
    }
   ],
   "source": [
    "# So now I want to go back to my original dictionary and find the books that have those shelves.\n",
    "# Then, I can look at what other shelves intersect those, and get an idea of how many fantasy books\n",
    "# are being labeled \"diverse\"\n",
    "\n",
    "for title, shelflist in books_and_shelves.items(): # loop over the dictionary\n",
    "    for shelf in shelflist:\n",
    "        for tag in diverse_books:\n",
    "            if tag in shelf:\n",
    "                print(title)\n",
    "    "
   ]
  },
  {
   "cell_type": "markdown",
   "metadata": {},
   "source": [
    "Imma try that again. Same problem as above--the list of shelves isn't a list of strings. That's stupid."
   ]
  },
  {
   "cell_type": "code",
   "execution_count": 67,
   "metadata": {
    "collapsed": true
   },
   "outputs": [],
   "source": [
    "# change the shelflists into list of strings\n",
    "\n",
    "for title, shelves in books_and_shelves.items():\n",
    "    list_of_shelves = list(shelves)\n",
    "    shelves_str = []\n",
    "    for shelf in list_of_shelves:\n",
    "        shelves_str.append(str(shelf))\n",
    "    books_and_shelves[title] = shelves_str"
   ]
  },
  {
   "cell_type": "code",
   "execution_count": 72,
   "metadata": {
    "collapsed": true
   },
   "outputs": [],
   "source": [
    "# NOW loop through to get the titles. Yass it worked.\n",
    "\n",
    "diverse_titles = []\n",
    "for title, shelves in books_and_shelves.items():\n",
    "    for shelf in shelves:\n",
    "        for tag in diverse_books:\n",
    "            if tag in shelf:\n",
    "                diverse_titles.append(title)"
   ]
  },
  {
   "cell_type": "code",
   "execution_count": 82,
   "metadata": {},
   "outputs": [
    {
     "name": "stdout",
     "output_type": "stream",
     "text": [
      "Counter({'favorites': 61, 'to-read': 61, 'books-i-own': 61, 'fantasy': 60, 'owned': 60, 'to-buy': 60, 'fiction': 59, 'library': 59, 'currently-reading': 58, 'ebook': 58, 'diversity': 58, 'read-in-2016': 55, 'owned-books': 55, 'wish-list': 55, 'young-adult': 54, 'read-in-2017': 54, 'kindle': 54, 'ebooks': 54, 'ya': 52, 'favourites': 52, 'adventure': 48, 'magic': 47, 'sci-fi-fantasy': 47, 'read-2017': 46, 'series': 45, 'read-2016': 45, 'dnf': 45, 'maybe': 45, 'audiobook': 44, 'teen': 44, 'reviewed': 44, 'audiobooks': 43, '2017-reads': 43, 'paranormal': 43, 'romance': 42, 'audio': 42, 'fantasy-sci-fi': 41, 'ya-fantasy': 40, '2016-reads': 40, 'ya-fiction': 40, 'did-not-finish': 39, 'supernatural': 38, 'tbr': 37, 'i-own': 35, 'need-to-buy': 34, 'ya-lit': 32, 'arc': 32, 'read-in-2015': 30, 'science-fiction': 30, 'library-books': 30, 'sci-fi': 29, 'young-adult-fiction': 29, 'e-book': 29, 'lgbt': 28, 'book-club': 28, 'read-in-english': 28, '4-stars': 28, 'ya-books': 27, 'abandoned': 27, 'high-fantasy': 26, 'cover-love': 26, 'must-read': 26, 'want-to-buy': 26, '5-stars': 25, 'on-my-shelf': 25, 'read-2015': 25, 'on-hold': 25, 'mythology': 25, 'lgbtq': 24, 'action': 24, 'mystery': 24, 'owned-tbr': 24, 'tbr-pile': 24, 'contemporary': 24, 'my-books': 23, 'english': 22, 'poc': 22, 'lgbtqia': 21, 'own-it': 21, 'friendship': 21, 'diverse-reads': 21, 'scifi-fantasy': 21, 'novels': 21, 'dystopian': 20, 'signed': 20, '2016-books': 20, 'magical-realism': 20, 'arcs': 20, '2015-reads': 19, 'books-to-buy': 19, '2017-read': 19, 'urban-fantasy': 19, 'to-read-fantasy': 19, '2016-read': 18, '2016-releases': 18, '2016-release': 18, 'female-author': 18, 'queer': 18, 'stand-alone': 18, 'audible': 17, 'beautiful-covers': 17, 'first-in-series': 17, 'audio-books': 17, 'sff': 17, 'female-protagonist': 17, 'netgalley': 17, 'dystopia': 16, 'read-in-2014': 16, 'historical': 16, 'diverse': 16, 'adult': 16, '2017-reading-challenge': 16, '2017-tbr': 15, 'scifi': 15, 'e-books': 15, 'historical-fiction': 15, 'diverse-books': 15, 'adult-fiction': 15, 'poc-author': 15, 'lost-interest': 15, 'to-read-ya': 15, 'borrowed': 15, '2015-releases': 14, 'favorite-books': 14, 'action-adventure': 14, 'retellings': 14, 'meh': 14, '2017-books': 14, 'speculative-fiction': 14, 'female-authors': 14, 'coming-of-age': 14, 'standalone': 14, 'family': 14, 'favorite': 13, 'fairy-tales': 13, 'royalty': 13, 'authors-of-color': 13, 'young-adult-fantasy': 12, 'audio-book': 12, 'teen-fiction': 12, 'library-book': 12, 'dark': 11, 'retelling': 11, 'my-library': 11, 'to-read-fiction': 11, 'fantasy-scifi': 11, 'genre-fantasy': 11, 'war': 11, 'glbt': 11, 'all-time-favorites': 10, '2015-release': 10, 'fairy-tale': 10, 'series-to-finish': 10, 'sf': 10, 'science-fiction-fantasy': 10, 'unfinished-series': 10, 'ya-to-read': 10, 'feminism': 10, 'humor': 10, 'stand-alones': 10, 'graphic-novels': 10, 'horror': 10, 'really-want-to-read': 9, '2016-reading-challenge': 9, 'read-2014': 9, 'own-voices': 9, 'sequels': 9, 'recommended': 9, 'feminist': 9, 'novel': 9, 'default': 9, '2016-publication': 9, 'comics': 9, 'graphic-novels-comics': 9, 'comics-graphic-novels': 9, 'graphic': 9, 'graphic-novels-and-comics': 9, 'comic-books': 9, 'comic': 9, 'graphic-novels-manga': 9, 'read-in-2013': 9, 'graphic-novel-comic': 9, 'graphics': 9, 'fairytales': 8, 'fairytale': 8, 'dark-fantasy': 8, 'love-triangle': 8, 'sci-fi-and-fantasy': 8, 'sf-f': 8, 'poc-authors': 8, 'standalones': 8, 'funny': 8, 'ghosts': 8, 'graphic-novel': 8, 'comics-and-graphic-novels': 8, 'middle-grade': 8, 'sequential-art': 8, 'comic-graphic-novel': 8, 'graphic-novel-comics': 8, 'maybe-read': 8, 'favorite-series': 7, 'thriller': 7, 'trilogy': 7, 'want-to-read': 7, 'sf-fantasy': 7, 'to-get': 7, 'women': 7, 'series-to-start': 7, 'women-authors': 7, 'speculative': 7, 'high-school': 7, 'to-be-released': 7, 'graphicnovels': 7, 'manga-graphic-novels': 7, 'read-in-2012': 7, 'comix': 7, '21st-century': 7, 'childrens': 7, 'children': 7, 'children-s': 7, 'kids': 7, 'author-of-color': 7, 'comic-book': 7, 'want': 7, 'faves': 6, 'book-boyfriends': 6, 'duology': 6, 'fairy-tale-retellings': 6, 'fairytale-retellings': 6, 'fairytale-retelling': 6, '2014-reads': 6, '3-stars': 6, 'didn-t-finish': 6, 'fantasy-to-read': 6, 'bookclub': 6, 'history': 6, 'read-in-2011': 6, 'multicultural': 6, 'gn': 6, 'unfinished': 6, 'have': 6, 'books': 6, 'lgbtqa': 6, 'asia': 6, 'not-yet-released': 6, 'juvenile': 6, 'comics-read': 6, 'dragons': 6, 'comics-manga': 6, 'for-review': 6, 'fairy-tale-retelling': 5, 'finished-series': 5, 'completed-series': 5, 'books-read-in-2016': 5, 'series-to-read': 5, '2015-read': 5, 'ya-romance': 5, 'middle-school': 5, 'historical-fantasy': 5, 'pretty-covers': 5, 'hardcover': 5, 'gods': 5, 'tween': 5, 'books-read-in-2017': 5, '2017-releases': 5, '2017-release': 5, 'tbr-2017': 5, 'comics-to-read': 5, 'ownvoices': 5, 'asian': 5, 'graphic-novels-comic-books': 5, 'queer-lit': 5, 'lgbt-books': 5, 'diversity-bingo-2017': 5, 'crime': 4, 're-read': 4, 'multiple-pov': 4, 'space': 4, 'epic-fantasy': 4, 'overdrive': 4, 'african-american': 4, 'race': 4, 'school': 4, 'women-writers': 4, 'contemporary-fiction': 4, 'realistic-fiction': 4, 'ya-contemporary': 4, 'cómics': 4, 'ghost': 4, 'ghost-stories': 4, 'graphic-novels-to-read': 4, 'to-read-graphic-novels': 4, 'mystery-thriller': 4, 'humour': 4, 'suspense': 4, 'first-in-a-series': 4, 'witches': 4, '2015-publication': 4, '2015-books': 4, '2017-publication': 4, 'to-read-comics': 4, 'cultural': 4, 'giveaways': 4, 'fantasy-paranormal': 4, 'death': 4, 'image': 4, 'image-comics': 4, 'read-comics': 4, 'comic-books-graphic-novels': 4, 'manga-comics': 4, 'glbtq': 4, 'quiltbag': 4, 'favorite-authors': 4, 'cover-lust': 4, 'comics-and-manga': 4, '2010s': 4, 'children-s-books': 4, 'juvenile-fiction': 4, 'childrens-books': 4, 'penguin': 4, 'ya-paranormal': 4, 'might-read': 4, 'read-2013': 4, 'séries': 3, 'leigh-bardugo': 3, 'futuristic': 3, 'aliens': 3, 'marie-lu': 3, 'superpowers': 3, 'the-young-elites': 3, 'fantasy-romance': 3, 'middle-east': 3, 'made-me-cry': 3, '2016-favorites': 3, 'post-apocalyptic': 3, 'hugo-award': 3, 'hugo-winners': 3, 'sword-and-laser': 3, 'apocalypse': 3, 'epic': 3, 'time-travel': 3, 'american': 3, 'literature': 3, 'african-american-literature': 3, 'african-american-lit': 3, 'black-authors': 3, 'octavia-butler': 3, 'edelweiss': 3, 'realistic': 3, 'cómic': 3, 'ghost-story': 3, 'manga': 3, 'graphic-novels-and-manga': 3, 'manga-and-graphic-novels': 3, 'alternate-history': 3, 'sub': 3, 'to-read-owned': 3, 'want-to-own': 3, 'need': 3, 'love': 3, 'japan': 3, 'most-anticipated-2017': 3, 'girl-power': 3, 'comedy': 3, 'demons': 3, 'china': 3, 'paranormal-romance': 3, 'lesbian': 3, 'faeries': 3, 'fairies': 3, 'wlw': 3, 'f-f': 3, 'fae': 3, 'gay': 3, 'queer-fiction': 3, 'superheroes': 3, 'superhero': 3, '2018': 3, 'super-heroes': 3, '2018-tbr': 3, '2016-debuts': 3, 'art': 3, 'kids-books': 3, 'children-s-lit': 3, 'children-s-literature': 3, 'children-s-fiction': 3, 'award-winners': 3, 'youth': 3, 'kid-lit': 3, 'childrens-lit': 3, 'mg': 3, 'middle-grades': 3, 'j-fiction': 3, 'owlcrate': 3, 'owlcrate-books': 3, 'owl-crate': 3, 'bookshelf': 3, 'books-about-books': 3, 'net-galley': 3, 'creepy': 3, 'queer-books': 3, 'space-opera': 3, 'africa': 3, 'heist': 2, 'favourite': 2, 'favs': 2, 'six-of-crows': 2, 'all-time-favourites': 2, '5-star': 2, 'steampunk': 2, 'ya-sci-fi': 2, '2014-releases': 2, 'powers': 2, 'apocalyptic': 2, 'hugo': 2, 'adult-fantasy': 2, 'hugo-award-winners': 2, 'uppercase': 2, 'kick-ass-heroine': 2, 'djinn': 2, 'classics': 2, 'racism': 2, 'literary-fiction': 2, 'general-fiction': 2, 'black': 2, 'read-harder-2017': 2, 'next-in-series': 2, 'anticipated-releases-2016': 2, '2016-tbr': 2, 'read-in-8th-grade': 2, 'graphic-novels-comics-manga': 2, 'graphicnovel': 2, 'illustrated': 2, 'ya-historical-fiction': 2, 'bought': 2, 'priority': 2, 'anti-hero': 2, 'young-elites': 2, 'rick-riordan': 2, 'magnus-chase': 2, 'norse-mythology': 2, 'riordan': 2, 'percy-jackson': 2, 'magnus-chase-and-the-gods-of-asgard': 2, 'norse': 2, 'myths': 2, 'novella': 2, 'novellas': 2, 'short-stories': 2, 'boarding-school': 2, 'vaginal-fantasy': 2, 'read-in-2010': 2, 'fantasy-series': 2, 'religion': 2, 'fairyloot': 2, 'coming-soon': 2, 'to-read-2017': 2, 'read-harder-2016': 2, 'india': 2, 'fantasy-tbr': 2, 'first-reads': 2, 'folklore': 2, '2013-releases': 2, 'chinese': 2, 'asian-culture': 2, 'music': 2, '2015-reading-challenge': 2, 'faerie': 2, 'youngadult': 2, 'lesbian-fiction': 2, 'i-need': 2, 'anticipated-releases': 2, 'physical-tbr': 2, 'anticipated-releases-2017': 2, 'own-tbr': 2, 'not-out-yet': 2, 'pirates': 2, 'february-2016': 2, 'harpercollins': 2, 'debut': 2, 're-telling': 2, 'beautiful-cover': 2, 'monsters': 2, 'newbery': 2, 'newbery-honor': 2, 'chapter-books': 2, 'read-alouds': 2, 'newberry': 2, 'award-winner': 2, '5th-grade': 2, 'childrens-fiction': 2, 'classroom-library': 2, 'middle-grade-fiction': 2, 'disappointing': 2, 'science-fantasy': 2, 'books-read-in-2015': 2, 'comics-graphic-novels-manga': 2, 'california': 2, 'families': 2, 'gave-up-on': 2, 'sequels-to-read': 2, 'covergasm': 2, 'paranormal-supernatural': 2, 'spooky': 2, 'halloween': 2, 'disability': 2, 'grade-8-semester-1': 2, 'not-interested': 2, 'lgbt-tbr': 2, 'lgbtqiap': 2, 'review-copy': 2, 'interested': 2, 'kindle-books': 2, 'sourcebooks': 2, 'fantasy-ya': 2, 'in-english': 2, 'survival': 2, 'read-2012': 2, 'world-fantasy-award': 2, 'magic-realism': 2, 'afrofuturism': 2, 'african': 2, 'super-hero': 2, 'superheros': 2, 'writers-of-color': 2, 'lgbt-fiction': 2, 'queer-reads': 2, 'queer-ya': 2, 'ya-science-fiction': 2, 'to-read-sci-fi': 2, '2013-reads': 2, 'ya-horror': 2, 'to-read-horror': 2, 'scary': 2, 'horror-thriller': 2, 'gender': 2, 'lunar-chronicles': 1, 'the-lunar-chronicles': 1, 'marissa-meyer': 1, 'assassins': 1, 'on-my-bookshelf': 1, 'favourite-books': 1, 'thieves': 1, 'otp': 1, 'up-next': 1, 'western': 1, 'march-2016': 1, 'uppercase-box': 1, 'slavery': 1, 'for-school': 1, 'classic': 1, '1970s': 1, 'literary': 1, '20th-century': 1, 'american-literature': 1, 'america': 1, 'southern': 1, 'drama': 1, 'mental-illness': 1, 'mental-health': 1, 'patrick-ness': 1, 'male-pov': 1, 'an-ember-in-the-ashes': 1, 'cómics-and-graphic-novels': 1, 'russia': 1, 'ya-graphic-novels': 1, 'grade-8-semester-2': 1, 'russian': 1, 'bullying': 1, 'immigrants': 1, 'ya-historical': 1, 'london': 1, 'detective': 1, 'mysteries': 1, 'england': 1, 'british': 1, 'urban': 1, 'crime-fiction': 1, 'ben-aaronovitch': 1, 'crime-mystery': 1, 'mystery-suspense': 1, 'peter-grant': 1, 'owned-ebook': 1, 'fantasy-urban': 1, 'rivers-of-london': 1, 'mystery-crime': 1, 'listened-to': 1, 'trilogies': 1, 'revenge': 1, 'elves': 1, 'modern-fantasy': 1, 'demigods': 1, 'ace': 1, 'portal-fantasy': 1, 'summer-2016': 1, 'read-2011': 1, 'inheritance-trilogy': 1, 'vaginal-fantasy-book-club': 1, 'fantasy-epic': 1, 'fantasy-fiction': 1, 'inheritance': 1, 'may-2017': 1, 'coverly-love': 1, 'summer-2017': 1, 'may': 1, 'read-harder-challenge-2017': 1, 'april-2016': 1, 'beautiful-writing': 1, 'need-to-read': 1, 'sad': 1, 'malaysia': 1, 'historical-romance': 1, 'asian-lit': 1, 'nook': 1, '19th-century': 1, 'culture': 1, 'couldn-t-finish': 1, 'cinderella': 1, 'Ýa-fiction': 1, 'fairy-tales-retold': 1, 'wonder-woman': 1, 'august-2017': 1, 'dc': 1, 'dc-comics': 1, 'anticipated-2017-releases': 1, 'signed-books': 1, '2017-favorites': 1, 'hawaii': 1, 'on-kindle': 1, 'travel': 1, 'arabian-nights': 1, 'cats': 1, 'buy': 1, 'october-2017': 1, 'read-aloud': 1, 'folktales': 1, 'battle-of-the-books': 1, 'quest': 1, 'childrens-literature': 1, 'chapter-book': 1, 't-l-307': 1, 'elementary': 1, 'folk-tales': 1, 'asian-american': 1, 'read-with-kids': 1, 'childhood': 1, 'children-books': 1, 'for-the-kids': 1, 'newbery-honors': 1, 'chinese-mythology': 1, 'eng-355': 1, '4th-grade': 1, 'kids-to-read': 1, 'newbery-books': 1, 'books-for-kids': 1, 'animals': 1, 'mother-daughter-book-club': 1, 'richelle-mead': 1, 'november-2015': 1, 'my-bookshelf': 1, 'bea-2015': 1, 'the-broken-earth': 1, 'hugo-2017': 1, 'spec-fic': 1, 'hugo-winner': 1, 'hugo-awards': 1, 'nebula-nominee': 1, 'best-of-2016': 1, 'writing': 1, 'new-adult': 1, 'never-finished': 1, 'rat-queens': 1, 'wwii': 1, 'world-war-ii': 1, 'holocaust': 1, 'germany': 1, 'harmonica': 1, 'orphans': 1, 'mock-newbery-2016': 1, 'world-war-2': 1, 'caudill': 1, 'ww2': 1, 'caudill-2017': 1, 'newbery-award': 1, 'newbery-2016': 1, 'juv-fiction': 1, 'pennsylvania': 1, 'april-2015': 1, '2015-debut': 1, 'random-house': 1, 'new-series': 1, 'david-levithan': 1, 'every-day': 1, 'books-i-have': 1, 'relationships': 1, 'part-of-a-series': 1, 'love-story': 1, 'nope': 1, 'january-2016': 1, '1920s': 1, 'libba-bray': 1, 'the-diviners': 1, 'new-york': 1, 'sisters': 1, 'illness': 1, 'siblings': 1, 'moving': 1, 'cystic-fibrosis': 1, 'day-of-the-dead': 1, '2016-2017-school-year': 1, 'juv': 1, 'grade-7': 1, 'disabilities': 1, 'jfic': 1, 'raina-telgemeier': 1, 'tweens': 1, 'holiday': 1, '40-book-challenge': 1, 'diverse-characters': 1, 'jinn': 1, 'forbidden-love': 1, 'magical': 1, 'tbr-2016': 1, 'november-2016': 1, 'sapphic': 1, 'f-f-romance': 1, 'march-2017': 1, 'cover-porn': 1, 'own-to-read': 1, 'saga': 1, 'bd': 1, 'read-graphic-novels': 1, 'graphic-novels-read': 1, 'brian-k-vaughan': 1, 'hoopla': 1, 'september-2016': 1, 'turista-literario': 1, 'first-to-read': 1, 'avatar': 1, 'media-tie-in': 1, 'dark-horse': 1, 'dark-horse-comics': 1, 'graphic-novel-manga': 1, 'tv-tie-in': 1, 'manga-and-comics': 1, 'anime': 1, '2012-read': 1, 'tie-in': 1, 'islam': 1, 'sword-laser': 1, 'technology': 1, 'contemporary-fantasy': 1, 'middle-eastern': 1, 'politics': 1, 'modern': 1, 'fantastical': 1, 'fantasia': 1, 'short-fiction': 1, 'short-story': 1, 'short': 1, 'shorts': 1, 'short-stories-novellas': 1, 'marvel-comics': 1, 'marvel': 1, 'superhéroes': 1, 'ms-marvel': 1, 'new-jersey': 1, 'comics-marvel': 1, 'muslim': 1, 'african-literature': 1, 'african-lit': 1, 'post-apocalypse': 1, 'fiction-to-read': 1, 'woc': 1, 'sudan': 1, 'dystopian-fiction': 1, 'dystopian-post-apocalyptic': 1, 'm-m': 1, 'mm': 1, 'coming-out': 1, 'gay-fiction': 1, 'm-m-romance': 1, 'ya-lgbt': 1, 'superhero-fiction': 1, 'gay-lit': 1, 'february-2017': 1, 'feb-2017': 1, '2017-new-releases': 1, '2017-ya': 1, 'ya-scifi': 1, 'february': 1, 'poc-mc': 1, 'malinda-lo': 1, 'lesbian-romance': 1, 'ff': 1, 'lgbtqi': 1, '2013-release': 1, 'harlequin': 1, 'bea-2013': 1, '2013-publication': 1, 'love-the-cover': 1, 'insta-love': 1, 'june-2013': 1, 'harlequin-teen': 1, 'ireland': 1, 'scholastic': 1, 'books-i-want': 1, 'new-books': 1, 'tbr-shelf': 1, 'not-owned': 1, 'bea-2016': 1, 'on-my-shelves': 1, 'do-not-own': 1, '2014-release': 1, 'murder': 1, '2014-publication': 1, '2014-books': 1, 'august-2014': 1, 'gothic': 1, 'thrillers': 1, 'genre-horror': 1, 'scifi-fantasy-horror': 1, 'considering': 1, 'supernatural-paranormal': 1, 'ibooks': 1, 'vampires': 1, 'vampire': 1, 'octavia-e-butler': 1, 'vampire-books': 1, 'books-by-women': 1, 'science-fiction-and-fantasy': 1, 'vampire-fiction': 1, '2012-releases': 1, '2012-release': 1, 'maybe-to-read': 1, 'clones': 1, 'cloning': 1, '2012-publication': 1, 'august-2012': 1, 'at-library': 1, 'ya-dystopian': 1, 'interesting': 1, 'thought-provoking': 1, 'trans': 1, 'fya-book-club': 1, 'the-stonewall-book-awards': 1, 'genre-magical-realism': 1, 'science': 1, 'humble-bundle': 1, 'calibre': 1, 'shapeshifters': 1, 'aoc': 1, '1980s': 1, 'black-lit': 1, 'own-ebook': 1})\n"
     ]
    }
   ],
   "source": [
    "# So now I can see what other shelves those books are on\n",
    "# First, get the list of unique titles\n",
    "unique_titles = list(Counter(diverse_titles).keys())\n",
    "diverse_shelves = []\n",
    "for title, shelves in books_and_shelves.items():\n",
    "    if title in unique_titles:\n",
    "        diverse_shelves.extend(shelves)\n",
    "print(Counter(diverse_shelves))\n"
   ]
  },
  {
   "cell_type": "code",
   "execution_count": null,
   "metadata": {
    "collapsed": true
   },
   "outputs": [],
   "source": []
  }
 ],
 "metadata": {
  "kernelspec": {
   "display_name": "Python 3",
   "language": "python",
   "name": "python3"
  },
  "language_info": {
   "codemirror_mode": {
    "name": "ipython",
    "version": 3
   },
   "file_extension": ".py",
   "mimetype": "text/x-python",
   "name": "python",
   "nbconvert_exporter": "python",
   "pygments_lexer": "ipython3",
   "version": "3.6.1"
  }
 },
 "nbformat": 4,
 "nbformat_minor": 2
}
